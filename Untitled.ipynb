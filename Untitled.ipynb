{
 "cells": [
  {
   "cell_type": "code",
   "execution_count": 1,
   "metadata": {},
   "outputs": [],
   "source": [
    "import enum\n",
    "import sys\n",
    "import os\n",
    "import itertools\n",
    "import bisect\n",
    "import time\n",
    "\n",
    "import numpy as np\n",
    "import matplotlib.pyplot as plt\n",
    "import seaborn as sns\n",
    "from matplotlib.pyplot import show"
   ]
  },
  {
   "cell_type": "code",
   "execution_count": 2,
   "metadata": {},
   "outputs": [],
   "source": [
    "Bateau = dict() # values are [nbr_case, valeur_pixel]\n",
    "Bateau['porte_avions'] = [5, 10]\n",
    "Bateau['croiseur'] = [4, 20]\n",
    "Bateau['contre_torpilleurs'] = [3, 30]\n",
    "Bateau['sous_marin'] = [3, 40]\n",
    "Bateau['torpilleur'] = [2, 50]\n",
    "\n",
    "\n",
    "class Direction(enum.Enum):\n",
    "    horizontal = 1\n",
    "    vertical = 2"
   ]
  },
  {
   "cell_type": "code",
   "execution_count": 44,
   "metadata": {},
   "outputs": [],
   "source": [
    "class Localisation():\n",
    "    def __init__(self, pair_xy, direction, length, key_name):\n",
    "        assert(isinstance(pair_xy, tuple) or isinstance(pair_xy, list))\n",
    "        assert(len(pair_xy) == 2)\n",
    "        assert(int(length) > 0)\n",
    "        assert(isinstance(direction, Direction))\n",
    "        \n",
    "        self.pair_xy = pair_xy\n",
    "        self.direction = direction\n",
    "        self.length = length\n",
    "        self.name = key_name\n",
    "        \n",
    "    def equals(self, Loc2):\n",
    "        assert(isinstance(Loc2, Localisation))\n",
    "        return (self.pair_xy == Loc2.pair_xy and self.direction == Loc2.direction and self.length == Loc2.length)\n",
    "    \n",
    "    def __lt__(self, Loc2):\n",
    "        \"\"\"\n",
    "            will be used by bisect.insort, to make the list of localisations sorted\n",
    "        \"\"\"\n",
    "        return self.pair_xy < Loc2.pair_xy\n",
    "    \n",
    "    def __str__(self):\n",
    "        s = \"Localisation object: \\n\"\n",
    "        s += \"[+] ship_name: \" + self.name + '\\n'\n",
    "        s += \"[+] coord: \" + str(self.pair_xy) + '\\n'\n",
    "        s += \"[+] direction: \" + str(self.direction) +  \" -> Direction value: \" + str(self.direction.value) + '\\n'\n",
    "        s += \"[+] length of the ship: \" + str(self.length) + '\\n'\n",
    "        \n",
    "        return s\n",
    "    \n",
    "    def getPos(self):\n",
    "        return self.pair_xy"
   ]
  },
  {
   "cell_type": "code",
   "execution_count": 39,
   "metadata": {},
   "outputs": [],
   "source": [
    "class Grille():\n",
    "    def __init__(self, lines=10, cols=10):\n",
    "        self.grille = np.zeros((lines, cols), dtype=int) # 0 means empty\n",
    "        self.lines = lines\n",
    "        self.cols = cols\n",
    "        self.localisations = [] # list of localisations (where the ships are in the grid)\n",
    "        \n",
    "    def peut_placer(self, bateau, position, direction): # position is a tuple: (line, col)\n",
    "        \"\"\"\n",
    "            @params: bateau -> str (key in Bateau dictionnary)\n",
    "                     position -> tuple or list\n",
    "                     direction -> Direction enum instance.\n",
    "        \"\"\"\n",
    "        assert(bateau in Bateau)\n",
    "        assert(len(position) == 2)\n",
    "        assert(isinstance(direction, Direction))\n",
    "        \n",
    "        try:\n",
    "            line = position[0]\n",
    "            column = position[1]\n",
    "            nbr_case = Bateau[bateau][0]\n",
    "\n",
    "            if direction.value == Direction.horizontal.value:\n",
    "                placement = self.grille[line, column:][:nbr_case]\n",
    "                if sum(placement) == 0 and len(placement) == nbr_case:\n",
    "                    return True\n",
    "                return False\n",
    "\n",
    "            elif direction.value == Direction.vertical.value:\n",
    "                placement = self.grille[:, column][line:nbr_case + line]\n",
    "                #print(\"placement %s => sum = %d\", %(placement, sum(placement)))\n",
    "                if sum(placement) == 0 and len(placement) == nbr_case:\n",
    "                    return True\n",
    "                return False\n",
    "\n",
    "            else:\n",
    "                raise ValueError(\"Direction doit etre soit vertical soit horizontal\")\n",
    "        except IndexError:\n",
    "            return False\n",
    "    \n",
    "    def place(self, bateau, position, direction):\n",
    "        # assertions will be done by peut_placer\n",
    "        \n",
    "        if self.peut_placer(bateau, position, direction):\n",
    "            line = position[0]\n",
    "            column = position[1]\n",
    "            \n",
    "            if direction.value == Direction.horizontal.value:\n",
    "                self.grille[line, column:][:Bateau[bateau][0]] = Bateau[bateau][1]\n",
    "            elif direction.value == Direction.vertical.value:\n",
    "                self.grille[:, column][line:Bateau[bateau][0] + line] = Bateau[bateau][1]\n",
    "            \n",
    "            # using insort to keep the list sorted each insert (needed to compare 2 grids)\n",
    "            bisect.insort(self.localisations, Localisation(list(position), direction, Bateau[bateau][0], bateau))\n",
    "            \n",
    "            return True\n",
    "            \n",
    "        else:\n",
    "            return False\n",
    "            \n",
    "    def place_alea(self, bateau):\n",
    "        cols_list = list(range(self.cols))\n",
    "        lines_list = list(range(self.lines))\n",
    "\n",
    "        all_possible_positions = list(itertools.product(cols_list, lines_list)) # construct all possible pairs (coords)\n",
    "        directions = [direction for direction in Direction]\n",
    "        \n",
    "        random_index = np.random.randint(len(all_possible_positions))\n",
    "        random_direction = directions[np.random.randint(len(directions))] # returns a direction (type Direction enum)\n",
    "        \n",
    "        placed = self.place(bateau, all_possible_positions[random_index], random_direction)\n",
    "        \n",
    "        while not placed:\n",
    "            del all_possible_positions[random_index] # sans remise\n",
    "            \n",
    "            random_index = np.random.randint(len(all_possible_positions))\n",
    "            random_direction = directions[np.random.randint(len(directions))]\n",
    "            placed = self.place(bateau, all_possible_positions[random_index], random_direction)\n",
    "\n",
    "            \n",
    "    def affiche(self):\n",
    "        plt.imshow(self.grille)\n",
    "        plt.set_cmap('hot')\n",
    "        \n",
    "    def eq(self, grilleB): # works only by constructions\n",
    "        if (len(self.localisations) != len(grilleB.localisations)):\n",
    "            return False\n",
    "        \n",
    "        for i in range(len(self.localisations)):\n",
    "            if not self.localisations[i].equals(grilleB.localisations[i]):\n",
    "                return False\n",
    "        \n",
    "        return True\n",
    "    \n",
    "    def genere_grille(self, h_many = 5):\n",
    "        i = 0\n",
    "        \n",
    "        for bateau in Bateau:\n",
    "            if i == h_many:\n",
    "                break\n",
    "                \n",
    "            self.place_alea(bateau)\n",
    "            i += 1\n",
    "            \n",
    "    def remove_ship(self, ship, position, direction):\n",
    "        line = position[0]\n",
    "        column = position[1]\n",
    "        nbr_case = Bateau[ship][0]\n",
    "        \n",
    "        if direction.value == Direction.horizontal.value:\n",
    "            self.grille[line, column:][:nbr_case] = 0\n",
    "            \n",
    "        elif direction.value == Direction.vertical.value:\n",
    "            self.grille[:, column][line:nbr_case + line] = 0\n",
    "            \n",
    "    def reset(self):\n",
    "        self.grille = np.zeros((self.lines, self.cols), dtype=int) # 0 means empty\n",
    "        self.localisations = [] # list of localisations (where the ships are in the grid)"
   ]
  },
  {
   "cell_type": "code",
   "execution_count": 40,
   "metadata": {},
   "outputs": [
    {
     "data": {
      "image/png": "[encoded data removed]",
      "text/plain": [
       "<Figure size 432x288 with 1 Axes>"
      ]
     },
     "metadata": {
      "needs_background": "light"
     },
     "output_type": "display_data"
    }
   ],
   "source": [
    "grille = Grille()\n",
    "grille.genere_grille()\n",
    "grille.affiche()"
   ]
  },
  {
   "cell_type": "code",
   "execution_count": 6,
   "metadata": {},
   "outputs": [],
   "source": [
    "# fonction qui permet de dénombrer le nombre de façons de placer un bateau donné sur une grille vide\n",
    "def how_many_ways_to_put(grid, ship_len, lines):\n",
    "    \"\"\"\n",
    "        Assumption: the grid is represented as a SQUARE matrix\n",
    "        \n",
    "        @params: grid \n",
    "                 ship_len -> longueur du bateau \n",
    "                 lines -> number of lines in the grid\n",
    "    \"\"\"\n",
    "    assert(isinstance(grid, Grille))\n",
    "    assert(isinstance(ship_len, int) and ship_len > 0)\n",
    "    \n",
    "    #grid = Grille(lines, lines)\n",
    "    count = 0\n",
    "    Bateau['temp'] = [ship_len, 100]\n",
    "    \n",
    "    for i in range(lines):\n",
    "        for j in range(lines):\n",
    "            if grid.peut_placer('temp', (i,j), Direction.horizontal):\n",
    "                count += 1\n",
    "            \n",
    "            if grid.peut_placer('temp', (i,j), Direction.vertical):\n",
    "                count += 1\n",
    "    \n",
    "    del Bateau['temp']\n",
    "    \n",
    "    return count"
   ]
  },
  {
   "cell_type": "code",
   "execution_count": 7,
   "metadata": {},
   "outputs": [],
   "source": [
    "def construct_ships(ships_length, colors=None):\n",
    "    ships = []\n",
    "    i = 0\n",
    "    \n",
    "    for ship_len in ships_length: \n",
    "        color = np.random.randint(10, 150)\n",
    "        ship_name = str(ship_len + color) + 'D' + str(ships_length.count(ship_len))\n",
    "        ships.append(ship_name)\n",
    "        \n",
    "        if colors is not None:\n",
    "            Bateau[ship_name] = [ship_len, colors[i]]\n",
    "            i += 1\n",
    "        else:\n",
    "            Bateau[ship_name] = [ship_len, color] \n",
    "    \n",
    "    return ships"
   ]
  },
  {
   "cell_type": "code",
   "execution_count": 8,
   "metadata": {},
   "outputs": [],
   "source": [
    "def calculate(grid, ships, lines, cols, count, visualize):    \n",
    "    \n",
    "    if len(ships) == 1:\n",
    "        for i in range(lines):\n",
    "            for j in range(cols):\n",
    "                for direction in Direction:\n",
    "                    if grid.peut_placer(ships[0], (i,j), direction):\n",
    "                        \n",
    "                        if visualize:\n",
    "                            grid.place(ships[0], (i,j), direction)\n",
    "                            grid.affiche()\n",
    "                            show()\n",
    "                            grid.remove_ship(ships[0], (i,j), direction)\n",
    "                            \n",
    "                        count += 1\n",
    "                            \n",
    "    else:\n",
    "        for i in range(lines):\n",
    "            for j in range(cols):\n",
    "                for direction in Direction:\n",
    "                    if grid.peut_placer(ships[0], (i,j), direction):\n",
    "                        grid.place(ships[0], (i,j), direction)\n",
    "                        count = calculate(grid, ships[1:], lines, cols, count, visualize)\n",
    "                        \n",
    "                        if count % 3 == 0:\n",
    "                            sys.stdout.write(\"\\r%d\" % count)\n",
    "                            sys.stdout.flush()\n",
    "                        grid.remove_ship(ships[0], (i,j), direction)\n",
    "                            \n",
    "    return count"
   ]
  },
  {
   "cell_type": "code",
   "execution_count": 9,
   "metadata": {},
   "outputs": [],
   "source": [
    "# fonction qui permet de dénombrer le nombre de façon de placer une liste de bateaux sur une grille vide. \n",
    "def how_many_conf(ships_length, lines, cols, visualize = False):\n",
    "    grid = Grille(lines, cols)\n",
    "    ships = construct_ships(ships_length)\n",
    "    \n",
    "    count = calculate(grid, ships, lines, cols, 0, visualize)\n",
    "    \n",
    "    for ship in ships:\n",
    "        try:\n",
    "            del Bateau[ship]\n",
    "        except KeyError:\n",
    "            pass\n",
    "        \n",
    "    return count"
   ]
  },
  {
   "cell_type": "code",
   "execution_count": 10,
   "metadata": {},
   "outputs": [],
   "source": [
    "#how_many_conf([5, 4, 3, 3, 2], 10, 10)"
   ]
  },
  {
   "cell_type": "code",
   "execution_count": 11,
   "metadata": {},
   "outputs": [],
   "source": [
    "def how_much_to_get_grid(grid):\n",
    "    # fonction qui prend enparamètre une grille, génère des grilles aléatoirement jusqu’à ce que la grille \n",
    "    # générée soit égale à la grille passée en paramètre et qui renvoie le nombre de grilles générées.\n",
    "    count = 1\n",
    "    \n",
    "    # constructing new ships with the same lengths and colors\n",
    "    uniq, counts = (np.unique(grid.grille, return_counts=True))\n",
    "    \n",
    "    ships = dict(zip(uniq[1:], counts[1:]))\n",
    "    ships = construct_ships(list(ships.values()), list(ships.keys()))\n",
    "    \n",
    "    # constructing new grids\n",
    "    tmp = Grille(grid.lines, grid.cols)\n",
    "    is_the_same = False\n",
    "    \n",
    "    for ship in ships:\n",
    "        tmp.place_alea(ship)\n",
    "        \n",
    "    if tmp.eq(grid):\n",
    "        is_the_same = True\n",
    "        \n",
    "    while not is_the_same:\n",
    "        count += 1\n",
    "        \n",
    "        tmp = Grille(grid.lines, grid.cols)\n",
    "\n",
    "        for ship in ships:\n",
    "            tmp.place_alea(ship)\n",
    "\n",
    "        if tmp.eq(grid):\n",
    "            is_the_same = True\n",
    "            \n",
    "        if count % 3 == 0:\n",
    "            sys.stdout.write(\"\\r%d\" % count)\n",
    "            sys.stdout.flush()\n",
    "    \n",
    "    # deleting temp ships\n",
    "    \n",
    "    for ship in ships:\n",
    "        try:\n",
    "            del Bateau[ship]\n",
    "        except KeyError:\n",
    "            pass\n",
    "    \n",
    "    return count"
   ]
  },
  {
   "cell_type": "code",
   "execution_count": 47,
   "metadata": {},
   "outputs": [],
   "source": [
    "class Bataille:\n",
    "    def __init__(self):\n",
    "        self.grid = Grille()\n",
    "        self.grid.genere_grille()\n",
    "        self.__construct_targets() \n",
    "        self.reseted = True\n",
    "        \n",
    "    def __construct_targets(self):\n",
    "        self.targets = dict() # dictionnary where keys are tuples (positions), and value is a tuple (ship, hitted?)\n",
    "        self.not_hitted_list = [] # list of targets (ints) that are still not hitted yet.\n",
    "            \n",
    "        for location in self.grid.localisations:\n",
    "            s = location.name # ship_name\n",
    "            \n",
    "            start_pos = tuple(location.getPos())\n",
    "            line, col = start_pos[0], start_pos[1]\n",
    "            \n",
    "            # start_pos is included in both loops\n",
    "            \n",
    "            if location.direction.value == Direction.horizontal.value: # iterate over the columns at the same line\n",
    "                for ii in range(location.length):\n",
    "                    self.targets[(line, col+ii)] = [s, False]\n",
    "                    \n",
    "            elif location.direction.value == Direction.vertical.value: # iterate over the lines at the same column\n",
    "                for ii in range(location.length):\n",
    "                    self.targets[(line+ii, col)] = [s, False]\n",
    "            \n",
    "            else:\n",
    "                raise SystemExit(\"Something is not right. (location)\")\n",
    "            \n",
    "            self.not_hitted_list.append([s, location.length]) # constructing this list too\n",
    "            \n",
    "        \n",
    "    def reset(self):\n",
    "        self.grid.reset()\n",
    "        self.grid.genere_grille()\n",
    "        self.__construct_targets() \n",
    "        \n",
    "    def play(self, pos):\n",
    "        pos = tuple(pos)\n",
    "        assert(len(pos) == 2)\n",
    "        \n",
    "        out = False\n",
    "        line, col = pos[0], pos[1]\n",
    "        assert(line < self.grid.lines and col < self.grid.cols)\n",
    "        \n",
    "        if self.victory():\n",
    "            return True\n",
    "        \n",
    "        if self.grid.grille[line, col] == -1:\n",
    "            pass\n",
    "            #print(\"Already hitted this place.\", end='\\t')\n",
    "        \n",
    "        elif pos in self.targets: # hitted a target\n",
    "            hitted_target = self.targets[pos][0]\n",
    "            #print(\"Hitted \" + hitted_target, end='\\t')\n",
    "            \n",
    "            try:\n",
    "                for i in range(len(self.not_hitted_list)):\n",
    "                    if hitted_target == self.not_hitted_list[i][0]:\n",
    "                        self.not_hitted_list[i][1] -= 1\n",
    "\n",
    "                        if self.not_hitted_list[i][1] == 0:\n",
    "                            self.not_hitted_list.pop(i)\n",
    "\n",
    "                        self.grid.grille[line, col] = -1\n",
    "                        out = True\n",
    "            except IndexError:\n",
    "                pass\n",
    "        else:\n",
    "            pass\n",
    "            #print(\"Missed !\", end='\\t')\n",
    "            \n",
    "        self.grid.grille[line, col] = -1 # hitted\n",
    "            \n",
    "        self.reseted = False # important, so that when we call reset x times, we'll do it only once, unless we play again\n",
    "        \n",
    "        return out\n",
    "                \n",
    "    def victory(self):\n",
    "        if len(self.not_hitted_list) == 0 :\n",
    "            #print(\"\\nVictory \")\n",
    "            return True\n",
    "        \n",
    "        return False\n",
    "    \n",
    "    def show(self):\n",
    "        self.grid.affiche()"
   ]
  },
  {
   "cell_type": "code",
   "execution_count": 48,
   "metadata": {},
   "outputs": [
    {
     "name": "stdout",
     "output_type": "stream",
     "text": [
      "[['sous_marin', 3], ['contre_torpilleurs', 3], ['porte_avions', 5], ['croiseur', 4], ['torpilleur', 2]]\n"
     ]
    },
    {
     "data": {
      "image/png": "[encoded data removed]",
      "text/plain": [
       "<Figure size 432x288 with 1 Axes>"
      ]
     },
     "metadata": {
      "needs_background": "light"
     },
     "output_type": "display_data"
    }
   ],
   "source": [
    "b = Bataille()\n",
    "b.show()\n",
    "print(b.not_hitted_list)"
   ]
  },
  {
   "cell_type": "code",
   "execution_count": 14,
   "metadata": {},
   "outputs": [
    {
     "data": {
      "text/plain": [
       "array([[ 0,  0,  0,  0,  0,  0,  0,  0,  0,  0],\n",
       "       [ 0,  0,  0,  0, 20, 20, 20, 20,  0,  0],\n",
       "       [ 0,  0,  0,  0,  0,  0,  0,  0,  0,  0],\n",
       "       [ 0,  0,  0,  0,  0,  0,  0,  0,  0,  0],\n",
       "       [30,  0, 10, 10, 10, 10, 10,  0, 40,  0],\n",
       "       [30,  0,  0,  0,  0,  0,  0,  0, 40,  0],\n",
       "       [30,  0,  0,  0,  0,  0,  0,  0, 40,  0],\n",
       "       [ 0, 50,  0,  0,  0,  0,  0,  0,  0,  0],\n",
       "       [ 0, 50,  0,  0,  0,  0,  0,  0,  0,  0],\n",
       "       [ 0,  0,  0,  0,  0,  0,  0,  0,  0,  0]])"
      ]
     },
     "execution_count": 14,
     "metadata": {},
     "output_type": "execute_result"
    }
   ],
   "source": [
    "b.grid.grille"
   ]
  },
  {
   "cell_type": "code",
   "execution_count": 15,
   "metadata": {},
   "outputs": [],
   "source": [
    "class Player():\n",
    "    def __init__(self, bataille):\n",
    "        assert(isinstance(bataille, Bataille))\n",
    "        self.bataille = bataille\n",
    "        \n",
    "        self.cols_list = list(range(self.bataille.grid.cols))\n",
    "        self.lines_list = list(range(self.bataille.grid.lines))\n",
    "        \n",
    "        self.positions = list(itertools.product(self.cols_list, self.lines_list))\n",
    "        \n",
    "    def reset(self):\n",
    "        self.positions = list(itertools.product(self.cols_list, self.lines_list))\n",
    "        \n",
    "    def play(self):\n",
    "        raise NotImplementedError\n",
    "        \n",
    "    def plot(self, n, plot='hist'):\n",
    "        assert(int(n) > 0)\n",
    "        x = list(range(self.bataille.grid.cols * self.bataille.grid.lines))\n",
    "        y = [0] * (self.bataille.grid.cols * self.bataille.grid.lines) \n",
    "        counts = [] # to get the expected value\n",
    "        z = [] # accumulative probability for density function\n",
    "        minimum = self.bataille.grid.cols * self.bataille.grid.lines\n",
    "        s = 0 # sum\n",
    "        \n",
    "        for i in range(n):\n",
    "            count = 0\n",
    "            self.bataille.reset()\n",
    "            self.reset()\n",
    "\n",
    "            #old_stdout = sys.stdout\n",
    "            #sys.stdout = open(os.devnull, 'w')\n",
    "            while not b.victory():\n",
    "                count += self.play()\n",
    "                \n",
    "            #sys.stdout = old_stdout\n",
    "            y[count-1] += 1\n",
    "            counts.append(count)\n",
    "            \n",
    "            if count < minimum:\n",
    "                minimum = count\n",
    "                \n",
    "            s += count\n",
    "        \n",
    "        s /= n\n",
    "        print(\"Best case (minimum) : \", minimum)\n",
    "        print(\"Expected value : \", s)\n",
    "        \n",
    "        y = np.asarray(y) / n\n",
    "        #print(\"Expected value 2 : \")\n",
    "        #print(sum([(i+1)*j for i,j in zip(list(range(len(y))), y)]))\n",
    "        #print(sum(y))\n",
    "            \n",
    "        total = 0\n",
    "        for i in range(len(y)):\n",
    "            total += y[i]\n",
    "            z.append(total)\n",
    "            \n",
    "        plt.xlabel('Iteration (Game number)')\n",
    "        plt.ylabel('Number of hits')\n",
    "        \n",
    "        if plot == 'hist':\n",
    "            plt.step(x, z)\n",
    "        elif plot == 'bar':\n",
    "            plt.bar(x,y)\n",
    "            \n",
    "        plt.title(\"Distribution de la variable aléatoire\")\n",
    "        plt.show()\n",
    "        "
   ]
  },
  {
   "cell_type": "code",
   "execution_count": 16,
   "metadata": {},
   "outputs": [],
   "source": [
    "class RandomPlayer(Player):\n",
    "    \"\"\"\n",
    "        A player that plays randomly (randomly choose a position and hit.)\n",
    "        Each time he chooses a random position (never choose the same position twice.)\n",
    "    \"\"\"\n",
    "    \n",
    "    def __init__(self, bataille):\n",
    "        super().__init__(bataille)\n",
    "        \n",
    "    def play(self):\n",
    "        random_index = np.random.randint(len(self.positions))\n",
    "        self.bataille.play(self.positions[random_index])\n",
    "        \n",
    "        del self.positions[random_index]\n",
    "        \n",
    "        return 1 # hitted 1 place"
   ]
  },
  {
   "cell_type": "code",
   "execution_count": 17,
   "metadata": {},
   "outputs": [
    {
     "name": "stdout",
     "output_type": "stream",
     "text": [
      "93\n"
     ]
    },
    {
     "data": {
      "image/png": "[encoded data removed]",
      "text/plain": [
       "<Figure size 432x288 with 1 Axes>"
      ]
     },
     "metadata": {
      "needs_background": "light"
     },
     "output_type": "display_data"
    }
   ],
   "source": [
    "player = RandomPlayer(b)\n",
    "count = 0\n",
    "b.reset()\n",
    "b.show()\n",
    "while not b.victory():\n",
    "    player.play()\n",
    "    b.not_hitted_list\n",
    "    count += 1\n",
    "    \n",
    "print(count)"
   ]
  },
  {
   "cell_type": "code",
   "execution_count": 18,
   "metadata": {
    "scrolled": false
   },
   "outputs": [
    {
     "name": "stdout",
     "output_type": "stream",
     "text": [
      "Best case (minimum) :  45\n",
      "Expected value :  95.390229\n"
     ]
    },
    {
     "data": {
      "image/png": "[encoded data removed]",
      "text/plain": [
       "<Figure size 432x288 with 1 Axes>"
      ]
     },
     "metadata": {
      "needs_background": "light"
     },
     "output_type": "display_data"
    }
   ],
   "source": [
    "y = player.plot(1000000)"
   ]
  },
  {
   "cell_type": "code",
   "execution_count": 19,
   "metadata": {},
   "outputs": [],
   "source": [
    "class HeuristicPlayer(Player):\n",
    "    \"\"\"\n",
    "        A player that plays randomly (randomly choose a position and hit.)\n",
    "        Each time he chooses a random position (never choose the same position twice.)\n",
    "    \"\"\"\n",
    "    \n",
    "    def __init__(self, bataille, h_far=1):\n",
    "        assert(int(h_far) > 0)\n",
    "        \n",
    "        super().__init__(bataille)\n",
    "        self.h_far = h_far\n",
    "        \n",
    "    def get_indexs_connex(self, index):\n",
    "        line, col = self.positions[index]\n",
    "        surr = []\n",
    "        \n",
    "        for i in range(1, self.h_far+1):\n",
    "            try:\n",
    "                surr.append(self.positions.index((line, col+i)))\n",
    "            except ValueError:\n",
    "                pass\n",
    "            try:\n",
    "                surr.append(self.positions.index((line, col-i)))\n",
    "            except ValueError:\n",
    "                pass\n",
    "            try:\n",
    "                surr.append(self.positions.index((line+i, col)))\n",
    "            except ValueError:\n",
    "                pass\n",
    "            try:\n",
    "                surr.append(self.positions.index((line-i, col)))\n",
    "            except ValueError:\n",
    "                pass\n",
    "\n",
    "        return surr\n",
    "        \n",
    "    def play(self):\n",
    "\n",
    "        try:\n",
    "            random_index = np.random.randint(len(self.positions))\n",
    "        except:\n",
    "            print(self.positions)\n",
    "            self.bataille.show()\n",
    "            print(self.bataille.not_hitted_list)\n",
    "            print(self.bataille.grid.grille)\n",
    "            raise SystemExit\n",
    "            \n",
    "        line, col = self.positions[random_index]\n",
    "        count_hits = 1\n",
    "\n",
    "        if self.bataille.play(self.positions[random_index]): # hitted a target\n",
    "            #print(\"Hitted a target\")\n",
    "            surr = self.get_indexs_connex(random_index)\n",
    "            \n",
    "            for i in surr:\n",
    "                count_hits += 1\n",
    "                self.bataille.play(self.positions[i])\n",
    "                \n",
    "            pos_to_remove = [self.positions[i] for i in surr]\n",
    "\n",
    "            for pos in pos_to_remove:\n",
    "                self.positions.remove(pos)\n",
    "\n",
    "        self.positions.remove((line, col))\n",
    "\n",
    "        return count_hits # hitted 1 place"
   ]
  },
  {
   "cell_type": "code",
   "execution_count": 46,
   "metadata": {},
   "outputs": [
    {
     "name": "stdout",
     "output_type": "stream",
     "text": [
      "Localisation object: \n",
      "[+] ship_name: porte_avions\n",
      "[+] coord: [0, 6]\n",
      "[+] direction: Direction.vertical -> Direction value: 2\n",
      "[+] length of the ship: 5\n",
      "\n",
      "Localisation object: \n",
      "[+] ship_name: sous_marin\n",
      "[+] coord: [0, 9]\n",
      "[+] direction: Direction.vertical -> Direction value: 2\n",
      "[+] length of the ship: 3\n",
      "\n",
      "Localisation object: \n",
      "[+] ship_name: contre_torpilleurs\n",
      "[+] coord: [2, 8]\n",
      "[+] direction: Direction.vertical -> Direction value: 2\n",
      "[+] length of the ship: 3\n",
      "\n",
      "Localisation object: \n",
      "[+] ship_name: torpilleur\n",
      "[+] coord: [5, 0]\n",
      "[+] direction: Direction.vertical -> Direction value: 2\n",
      "[+] length of the ship: 2\n",
      "\n",
      "Localisation object: \n",
      "[+] ship_name: croiseur\n",
      "[+] coord: [6, 4]\n",
      "[+] direction: Direction.vertical -> Direction value: 2\n",
      "[+] length of the ship: 4\n",
      "\n"
     ]
    },
    {
     "data": {
      "image/png": "[encoded data removed]",
      "text/plain": [
       "<Figure size 432x288 with 1 Axes>"
      ]
     },
     "metadata": {
      "needs_background": "light"
     },
     "output_type": "display_data"
    }
   ],
   "source": [
    "heur = HeuristicPlayer(b)\n",
    "count = 0\n",
    "b.reset()\n",
    "b.show()\n",
    "while not b.victory():\n",
    "    count += heur.play()\n",
    "    \n",
    "for loc in heur.bataille.grid.localisations:\n",
    "    print(loc)\n",
    "b.show()"
   ]
  },
  {
   "cell_type": "code",
   "execution_count": 21,
   "metadata": {},
   "outputs": [
    {
     "name": "stdout",
     "output_type": "stream",
     "text": [
      "Best case (minimum) :  32\n",
      "Expected value :  87.146747\n"
     ]
    },
    {
     "data": {
      "image/png": "[encoded data removed]",
      "text/plain": [
       "<Figure size 432x288 with 1 Axes>"
      ]
     },
     "metadata": {
      "needs_background": "light"
     },
     "output_type": "display_data"
    }
   ],
   "source": [
    "heur.plot(1000000)"
   ]
  }
 ],
 "metadata": {
  "kernelspec": {
   "display_name": "Python 3",
   "language": "python",
   "name": "python3"
  },
  "language_info": {
   "codemirror_mode": {
    "name": "ipython",
    "version": 3
   },
   "file_extension": ".py",
   "mimetype": "text/x-python",
   "name": "python",
   "nbconvert_exporter": "python",
   "pygments_lexer": "ipython3",
   "version": "3.7.4+"
  }
 },
 "nbformat": 4,
 "nbformat_minor": 2
}
