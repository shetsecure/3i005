{
 "cells": [
  {
   "cell_type": "code",
   "execution_count": 1,
   "metadata": {},
   "outputs": [],
   "source": [
    "import numpy as np\n",
    "import enum\n",
    "import sys\n",
    "import matplotlib.pyplot as plt\n",
    "from matplotlib.pyplot import show"
   ]
  },
  {
   "cell_type": "code",
   "execution_count": 59,
   "metadata": {},
   "outputs": [],
   "source": [
    "Bateau = dict() # values are [nbr_case, valeur_pixel]\n",
    "Bateau['porte_avions'] = [5, 10]\n",
    "Bateau['croiseur'] = [4, 20]\n",
    "Bateau['contre_torpilleurs'] = [3, 30]\n",
    "Bateau['sous_marin'] = [3, 40]\n",
    "Bateau['torpilleur'] = [2, 50]\n",
    "\n",
    "\n",
    "class Direction(enum.Enum):\n",
    "    horizontal = 1\n",
    "    vertical = 2"
   ]
  },
  {
   "cell_type": "code",
   "execution_count": 4,
   "metadata": {},
   "outputs": [],
   "source": [
    "class Grille():\n",
    "    def __init__(self, lines=10, cols=10):\n",
    "        self.grille = np.zeros((lines, cols), dtype=int) # 0 means empty\n",
    "        self.lines = lines\n",
    "        self.cols = cols\n",
    "        \n",
    "    def peut_placer(self, bateau, position, direction): # position: (ligne, col)\n",
    "        assert(bateau in Bateau)\n",
    "        assert(len(position) == 2)\n",
    "        assert(isinstance(direction, Direction))\n",
    "        \n",
    "        try:\n",
    "            line = position[0]\n",
    "            column = position[1]\n",
    "            nbr_case = Bateau[bateau][0]\n",
    "\n",
    "            if direction.value == Direction.horizontal.value:\n",
    "                placement = self.grille[line, column:][:nbr_case]\n",
    "                if sum(placement) == 0 and len(placement) == nbr_case:\n",
    "                    return True\n",
    "                return False\n",
    "\n",
    "            elif direction.value == Direction.vertical.value:\n",
    "                placement = self.grille[:, column][line:nbr_case + line]\n",
    "                #print(\"placement %s => sum = %d\", %(placement, sum(placement)))\n",
    "                if sum(placement) == 0 and len(placement) == nbr_case:\n",
    "                    return True\n",
    "                return False\n",
    "\n",
    "            else:\n",
    "                raise ValueError(\"Direction doit etre soit vertical soit horizontal\")\n",
    "        except IndexError:\n",
    "            return False\n",
    "    \n",
    "    def place(self, bateau, position, direction):\n",
    "        # assertions will be done by peut_placer\n",
    "        \n",
    "        if self.peut_placer(bateau, position, direction):\n",
    "            line = position[0]\n",
    "            column = position[1]\n",
    "            \n",
    "            if direction.value == Direction.horizontal.value:\n",
    "                self.grille[line, column:][:Bateau[bateau][0]] = Bateau[bateau][1]\n",
    "            elif direction.value == Direction.vertical.value:\n",
    "                self.grille[:, column][line:Bateau[bateau][0] + line] = Bateau[bateau][1]\n",
    "        \n",
    "            return True\n",
    "            \n",
    "        else:\n",
    "            return False\n",
    "            \n",
    "    def place_alea(self, bateau): # need to force termination somehow (it could go +inf)\n",
    "        random_position = np.random.randint(10, size=2)\n",
    "        directions = [direction for direction in Direction]\n",
    "        random_direction = directions[np.random.randint(len(directions))] # returns a direction (type Direction enum)\n",
    "        \n",
    "        placed = self.place(bateau, random_position, random_direction)\n",
    "        \"\"\"if placed:\n",
    "            print(\"successfully place %s at position %s\" %(bateau, random_position))\"\"\"\n",
    "        while not placed:\n",
    "            #print(\"failed to place %s at position %s \" %(bateau, random_position))\n",
    "            random_position = np.random.randint(10, size=2)\n",
    "            random_direction = directions[np.random.randint(len(directions))]\n",
    "            #print(\"trying again with %s at position %s\" %(bateau, random_position))\n",
    "            placed = self.place(bateau, random_position, random_direction)\n",
    "            \n",
    "        \"\"\"if placed:\n",
    "            print(\"successfully place %s at position %s \" %(bateau, random_position))\n",
    "            print(self.grille)\"\"\"\n",
    "            \n",
    "    def affiche(self):\n",
    "        plt.imshow(self.grille)\n",
    "        plt.set_cmap('hot')\n",
    "        \n",
    "    def eq(self, grilleB): # u might need to fix this\n",
    "        return self.grille == grilleB.grille\n",
    "    \n",
    "    def genere_grille(self):\n",
    "        for bateau in Bateau:\n",
    "            #print(bateau)\n",
    "            self.place_alea(bateau)\n",
    "            \n",
    "    def remove_ship(self, ship, position, direction):\n",
    "        line = position[0]\n",
    "        column = position[1]\n",
    "        nbr_case = Bateau[ship][0]\n",
    "        \n",
    "        if direction.value == Direction.horizontal.value:\n",
    "            self.grille[line, column:][:nbr_case] = 0\n",
    "            \n",
    "        elif direction.value == Direction.vertical.value:\n",
    "            self.grille[:, column][line:nbr_case + line] = 0"
   ]
  },
  {
   "cell_type": "code",
   "execution_count": 5,
   "metadata": {},
   "outputs": [
    {
     "data": {
      "image/png": "[encoded data removed]",
      "text/plain": [
       "<Figure size 432x288 with 1 Axes>"
      ]
     },
     "metadata": {
      "needs_background": "light"
     },
     "output_type": "display_data"
    }
   ],
   "source": [
    "grille = Grille()\n",
    "grille.genere_grille()\n",
    "grille.affiche()"
   ]
  },
  {
   "cell_type": "markdown",
   "metadata": {},
   "source": [
    "## 2 Combinatoire du jeu"
   ]
  },
  {
   "cell_type": "markdown",
   "metadata": {},
   "source": [
    "Donner une borne supérieure du nombre de configurations possibles pour la liste\n",
    "complète de bateaux sur une grille de taille 10 (calcul à la main)."
   ]
  },
  {
   "cell_type": "code",
   "execution_count": 6,
   "metadata": {},
   "outputs": [],
   "source": [
    "# fonction qui permet de dénombrer le nombre de façons de placer un bateau donné sur une grille vide\n",
    "def how_many_ways_to_put(grid, ship_len, lines):\n",
    "    \"\"\"\n",
    "        Assumption: the grid is represented as a SQUARE matrix\n",
    "        \n",
    "        @params: grid \n",
    "                 ship_len -> longueur du bateau \n",
    "                 lines -> number of lines in the grid\n",
    "    \"\"\"\n",
    "    assert(isinstance(grid, Grille))\n",
    "    assert(isinstance(ship_len, int) and ship_len > 0)\n",
    "    \n",
    "    #grid = Grille(lines, lines)\n",
    "    count = 0\n",
    "    Bateau['temp'] = [ship_len, 100]\n",
    "    \n",
    "    for i in range(lines):\n",
    "        for j in range(lines):\n",
    "            if grid.peut_placer('temp', (i,j), Direction.horizontal):\n",
    "                count += 1\n",
    "            \n",
    "            if grid.peut_placer('temp', (i,j), Direction.vertical):\n",
    "                count += 1\n",
    "    \n",
    "    del Bateau['temp']\n",
    "    \n",
    "    return count"
   ]
  },
  {
   "cell_type": "code",
   "execution_count": 58,
   "metadata": {},
   "outputs": [],
   "source": [
    "def construct_ships(ships_length, colors=None):\n",
    "    ships = []\n",
    "    i = 0\n",
    "    \n",
    "    for ship_len in ships_length: \n",
    "        color = np.random.randint(10, 150)\n",
    "        ship_name = str(ship_len + color) + 'D' + str(ships_length.count(ship_len))\n",
    "        ships.append(ship_name)\n",
    "        \n",
    "        if colors is not None:\n",
    "            Bateau[ship_name] = [ship_len, colors[i]]\n",
    "            i += 1\n",
    "        else:\n",
    "            Bateau[ship_name] = [ship_len, color] \n",
    "    \n",
    "    return ships"
   ]
  },
  {
   "cell_type": "code",
   "execution_count": 22,
   "metadata": {},
   "outputs": [],
   "source": [
    "def calculate(grid, ships, lines, cols, count, visualize):    \n",
    "    \n",
    "    if len(ships) == 1:\n",
    "        for i in range(lines):\n",
    "            for j in range(cols):\n",
    "                for direction in Direction:\n",
    "                    if grid.peut_placer(ships[0], (i,j), direction):\n",
    "                        \n",
    "                        if visualize:\n",
    "                            grid.place(ships[0], (i,j), direction)\n",
    "                            grid.affiche()\n",
    "                            show()\n",
    "                            grid.remove_ship(ships[0], (i,j), direction)\n",
    "                            \n",
    "                        count += 1\n",
    "                            \n",
    "    else:\n",
    "        for i in range(lines):\n",
    "            for j in range(cols):\n",
    "                for direction in Direction:\n",
    "                    if grid.peut_placer(ships[0], (i,j), direction):\n",
    "                        grid.place(ships[0], (i,j), direction)\n",
    "                        count = calculate(grid, ships[1:], lines, cols, count, visualize)\n",
    "                        \n",
    "                        if count % 3 == 0:\n",
    "                            sys.stdout.write(\"\\r%d\" % count)\n",
    "                            sys.stdout.flush()\n",
    "                        grid.remove_ship(ships[0], (i,j), direction)\n",
    "                            \n",
    "    return count"
   ]
  },
  {
   "cell_type": "code",
   "execution_count": 23,
   "metadata": {},
   "outputs": [],
   "source": [
    "# fonction qui permet de dénombrer le nombre de façon de placer une liste de bateaux sur une grille vide. \n",
    "def how_many_conf(ships_length, lines, cols, visualize = False):\n",
    "    grid = Grille(lines, cols)\n",
    "    ships = construct_ships(ships_length)\n",
    "    \n",
    "    count = calculate(grid, ships, lines, cols, 0, visualize)\n",
    "    \n",
    "    for ship in ships:\n",
    "        try:\n",
    "            del Bateau[ship]\n",
    "        except KeyError:\n",
    "            pass\n",
    "        \n",
    "    return count"
   ]
  },
  {
   "cell_type": "code",
   "execution_count": 29,
   "metadata": {},
   "outputs": [
    {
     "name": "stdout",
     "output_type": "stream",
     "text": [
      "12"
     ]
    },
    {
     "data": {
      "text/plain": [
       "12"
      ]
     },
     "execution_count": 29,
     "metadata": {},
     "output_type": "execute_result"
    }
   ],
   "source": [
    "how_many_conf([3,3], 3, 3)"
   ]
  },
  {
   "cell_type": "code",
   "execution_count": 74,
   "metadata": {},
   "outputs": [],
   "source": [
    "def how_much_to_get_grid(grid):\n",
    "    # fonction qui prend enparamètre une grille, génère des grilles aléatoirement jusqu’à ce que la grille \n",
    "    # générée soit égale à la grille passée en paramètre et qui renvoie le nombre de grilles générées.\n",
    "    count = 1\n",
    "    \n",
    "    # constructing new ships with the same lengths and colors\n",
    "    uniq, counts = (np.unique(grid.grille, return_counts=True))\n",
    "    \n",
    "    ships = dict(zip(uniq[1:], counts[1:]))\n",
    "    ships = construct_ships(list(ships.values()), list(ships.keys()))\n",
    "    \n",
    "    # constructing new grids\n",
    "    tmp = Grille(grid.lines, grid.cols)\n",
    "    is_the_same = False\n",
    "    \n",
    "    for ship in ships:\n",
    "        tmp.place_alea(ship)\n",
    "        \n",
    "    if (tmp.grille == grid.grille).all():\n",
    "        is_the_same = True\n",
    "        \n",
    "    while not is_the_same:\n",
    "        count += 1\n",
    "        \n",
    "        tmp = Grille(grid.lines, grid.cols)\n",
    "\n",
    "        for ship in ships:\n",
    "            tmp.place_alea(ship)\n",
    "\n",
    "        if (tmp.grille == grid.grille).all():\n",
    "            is_the_same = True\n",
    "    \n",
    "    # deleting temp ships\n",
    "    \n",
    "    for ship in ships:\n",
    "        try:\n",
    "            del Bateau[ship]\n",
    "        except KeyError:\n",
    "            pass\n",
    "        \n",
    "    return count"
   ]
  }
 ],
 "metadata": {
  "kernelspec": {
   "display_name": "Python 3",
   "language": "python",
   "name": "python3"
  },
  "language_info": {
   "codemirror_mode": {
    "name": "ipython",
    "version": 3
   },
   "file_extension": ".py",
   "mimetype": "text/x-python",
   "name": "python",
   "nbconvert_exporter": "python",
   "pygments_lexer": "ipython3",
   "version": "3.7.3"
  }
 },
 "nbformat": 4,
 "nbformat_minor": 2
}
