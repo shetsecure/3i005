{
 "cells": [
  {
   "cell_type": "code",
   "execution_count": 1,
   "metadata": {},
   "outputs": [],
   "source": [
    "import numpy as np\n",
    "import matplotlib.pyplot as plt\n",
    "import enum"
   ]
  },
  {
   "cell_type": "code",
   "execution_count": 103,
   "metadata": {},
   "outputs": [],
   "source": [
    "Bateau = dict() # values are [nbr_case, valeur_pixel]\n",
    "Bateau['porte_avions'] = [5, 10]\n",
    "Bateau['croiseur'] = [4, 20]\n",
    "Bateau['contre_torpilleurs'] = [3, 30]\n",
    "Bateau['sous_marin'] = [3, 40]\n",
    "Bateau['torpilleur'] = [2, 50]\n",
    "\n",
    "\n",
    "class Direction(enum.Enum):\n",
    "    horizontal = 1\n",
    "    vertical = 2"
   ]
  },
  {
   "cell_type": "code",
   "execution_count": 3,
   "metadata": {},
   "outputs": [
    {
     "name": "stdout",
     "output_type": "stream",
     "text": [
      "[[ 0  0  0  0  0  0  0  0  0  0]\n",
      " [ 0  0  0  0  0 20 20 20 20  0]\n",
      " [ 0  0  0  0  0 10  0  0  0  0]\n",
      " [ 0  0  0  0  0 10  0  0  0  0]\n",
      " [30 30 30  0  0 10  0  0  0  0]\n",
      " [ 0  0  0  0  0  0  0  0  0  0]\n",
      " [ 0  0  0  0  0  0  0  0  0  0]\n",
      " [ 0  0  0  0  0  0  0  0  0  0]\n",
      " [ 0  0  0  0  0  0  0  0  0  0]\n",
      " [ 0  0  0  0  0  0  0  0  0  0]]\n"
     ]
    },
    {
     "data": {
      "text/plain": [
       "40"
      ]
     },
     "execution_count": 3,
     "metadata": {},
     "output_type": "execute_result"
    }
   ],
   "source": [
    "def peut_placer(bateau, position, direction): # position: (ligne, col)\n",
    "    assert(bateau in Bateau)\n",
    "    assert(len(position) == 2)\n",
    "    assert(isinstance(direction, Direction))\n",
    "    \n",
    "    line = position[0]\n",
    "    column = position[1]\n",
    "    \n",
    "    print(direction.value)\n",
    "    if direction.value == Direction.horizontal.value:\n",
    "        if sum(grille[line, column:][:Bateau[bateau][0]]) == 0:\n",
    "            return True\n",
    "        return False\n",
    "        \n",
    "    elif direction.value == Direction.vertical.value:\n",
    "        if sum(grille[:, line][column:Bateau[bateau][0]]) == 0:\n",
    "            return True\n",
    "        return False\n",
    "        \n",
    "    else:\n",
    "        raise ValueError(\"Direction doit etre soit vertical soit horizontal\")\n",
    "\n",
    "#peut_placer('torpilleur', (3,0), Direction.horizontal)\n",
    "grille = np.asarray([[ 0,  0,  0,  0,  0,  0,  0,  0,  0,  0],\n",
    " [ 0,  0,  0,  0,  0, 20, 20, 20, 20,  0],\n",
    " [ 0,  0,  0,  0,  0, 10,  0,  0,  0,  0],\n",
    " [ 0,  0,  0,  0,  0, 10,  0,  0,  0,  0],\n",
    " [30, 30, 30,  0,  0, 10,  0,  0,  0,  0],\n",
    " [ 0,  0,  0,  0,  0,  0,  0,  0,  0,  0],\n",
    " [ 0,  0,  0,  0,  0,  0,  0,  0,  0,  0],\n",
    " [ 0,  0,  0,  0,  0,  0,  0,  0,  0,  0],\n",
    " [ 0,  0,  0,  0,  0,  0,  0,  0,  0,  0],\n",
    " [ 0,  0,  0,  0,  0,  0,  0,  0,  0,  0]]\n",
    ")\n",
    "print(grille)\n",
    "#print(10 - np.count_nonzero(grille[4, 0:][:3]))\n",
    "#print(grille[4,0:][:3])\n",
    "line = 1\n",
    "column = 5\n",
    "nbr_case = 3\n",
    "sum(grille[:, column][line:nbr_case+line])"
   ]
  },
  {
   "cell_type": "code",
   "execution_count": 46,
   "metadata": {},
   "outputs": [],
   "source": [
    "class Grille():\n",
    "    def __init__(self, lines=10, cols=10):\n",
    "        self.grille = np.zeros((lines, cols), dtype=int) # 0 means empty\n",
    "        self.lines = lines\n",
    "        self.cols = cols\n",
    "        \n",
    "    def peut_placer(self, bateau, position, direction): # position: (ligne, col)\n",
    "        assert(bateau in Bateau)\n",
    "        assert(len(position) == 2)\n",
    "        assert(isinstance(direction, Direction))\n",
    "        \n",
    "        line = position[0]\n",
    "        column = position[1]\n",
    "        nbr_case = Bateau[bateau][0]\n",
    "        \n",
    "        if direction.value == Direction.horizontal.value:\n",
    "            placement = self.grille[line, column:][:nbr_case]\n",
    "            if sum(placement) == 0 and len(placement) == nbr_case:\n",
    "                return True\n",
    "            return False\n",
    "        \n",
    "        elif direction.value == Direction.vertical.value:\n",
    "            placement = self.grille[:, column][line:nbr_case + line]\n",
    "            #print(\"placement %s => sum = %d\", %(placement, sum(placement)))\n",
    "            if sum(placement) == 0 and len(placement) == nbr_case:\n",
    "                return True\n",
    "            return False\n",
    "        \n",
    "        else:\n",
    "            raise ValueError(\"Direction doit etre soit vertical soit horizontal\")\n",
    "    \n",
    "    def place(self, bateau, position, direction):\n",
    "        # assertions will be done by peut_placer\n",
    "        \n",
    "        if self.peut_placer(bateau, position, direction):\n",
    "            line = position[0]\n",
    "            column = position[1]\n",
    "            \n",
    "            if direction.value == Direction.horizontal.value:\n",
    "                self.grille[line, column:][:Bateau[bateau][0]] = Bateau[bateau][1]\n",
    "            elif direction.value == Direction.vertical.value:\n",
    "                self.grille[:, column][line:Bateau[bateau][0] + line] = Bateau[bateau][1]\n",
    "        \n",
    "            return True\n",
    "            \n",
    "        else:\n",
    "            return False\n",
    "            \n",
    "    def place_alea(self, bateau): # need to force termination somehow (it could go +inf)\n",
    "        random_position = np.random.randint(10, size=2)\n",
    "        directions = [direction for direction in Direction]\n",
    "        random_direction = directions[np.random.randint(len(directions))] # returns a direction (type Direction enum)\n",
    "        \n",
    "        placed = self.place(bateau, random_position, random_direction)\n",
    "        \"\"\"if placed:\n",
    "            print(\"successfully place %s at position %s\" %(bateau, random_position))\"\"\"\n",
    "        while not placed:\n",
    "            #print(\"failed to place %s at position %s \" %(bateau, random_position))\n",
    "            random_position = np.random.randint(10, size=2)\n",
    "            random_direction = directions[np.random.randint(len(directions))]\n",
    "            #print(\"trying again with %s at position %s\" %(bateau, random_position))\n",
    "            placed = self.place(bateau, random_position, random_direction)\n",
    "            \n",
    "        \"\"\"if placed:\n",
    "            print(\"successfully place %s at position %s \" %(bateau, random_position))\n",
    "            print(self.grille)\"\"\"\n",
    "            \n",
    "    def affiche(self):\n",
    "        plt.imshow(self.grille)\n",
    "        \n",
    "    def eq(self, grilleB): # u might need to fix this\n",
    "        return self.grille == grilleB.grille\n",
    "    \n",
    "    def genere_grille(self):\n",
    "        for bateau in Bateau:\n",
    "            #print(bateau)\n",
    "            self.place_alea(bateau)"
   ]
  },
  {
   "cell_type": "code",
   "execution_count": 9,
   "metadata": {},
   "outputs": [
    {
     "data": {
      "image/png": "[encoded data removed]",
      "text/plain": [
       "<Figure size 432x288 with 1 Axes>"
      ]
     },
     "metadata": {
      "needs_background": "light"
     },
     "output_type": "display_data"
    }
   ],
   "source": [
    "grille = Grille()\n",
    "grille.genere_grille()\n",
    "grille.affiche()"
   ]
  },
  {
   "cell_type": "markdown",
   "metadata": {},
   "source": [
    "## 2 Combinatoire du jeu"
   ]
  },
  {
   "cell_type": "markdown",
   "metadata": {},
   "source": [
    "Donner une borne supérieure du nombre de configurations possibles pour la liste\n",
    "complète de bateaux sur une grille de taille 10 (calcul à la main)."
   ]
  },
  {
   "cell_type": "code",
   "execution_count": 84,
   "metadata": {},
   "outputs": [],
   "source": [
    "# fonction qui permet de dénombrer le nombre de façons de placer un bateau donné sur une grille vide\n",
    "def how_many_ways_to_put(grid, ship_len, lines):\n",
    "    \"\"\"\n",
    "        Assumption: the grid is represented as a SQUARE matrix\n",
    "        \n",
    "        @params: grid \n",
    "                 ship_len -> longueur du bateau \n",
    "                 lines -> number of lines in the grid\n",
    "    \"\"\"\n",
    "    assert(isinstance(grid, Grille))\n",
    "    assert(isinstance(ship_len, int) and ship_len > 0)\n",
    "    \n",
    "    #grid = Grille(lines, lines)\n",
    "    count = 0\n",
    "    Bateau['temp'] = [ship_len, 100]\n",
    "    \n",
    "    for i in range(lines):\n",
    "        for j in range(lines):\n",
    "            if grid.peut_placer('temp', (i,j), Direction.horizontal):\n",
    "                count += 1\n",
    "            \n",
    "            if grid.peut_placer('temp', (i,j), Direction.vertical):\n",
    "                count += 1\n",
    "    \n",
    "    del Bateau['temp']\n",
    "    \n",
    "    return count"
   ]
  },
  {
   "cell_type": "code",
   "execution_count": 122,
   "metadata": {},
   "outputs": [
    {
     "data": {
      "image/png": "[encoded data removed]",
      "text/plain": [
       "<Figure size 432x288 with 1 Axes>"
      ]
     },
     "metadata": {
      "needs_background": "light"
     },
     "output_type": "display_data"
    },
    {
     "data": {
      "image/png": "[encoded data removed]",
      "text/plain": [
       "<Figure size 432x288 with 1 Axes>"
      ]
     },
     "metadata": {
      "needs_background": "light"
     },
     "output_type": "display_data"
    },
    {
     "data": {
      "image/png": "[encoded data removed]",
      "text/plain": [
       "<Figure size 432x288 with 1 Axes>"
      ]
     },
     "metadata": {
      "needs_background": "light"
     },
     "output_type": "display_data"
    },
    {
     "data": {
      "image/png": "[encoded data removed]",
      "text/plain": [
       "<Figure size 432x288 with 1 Axes>"
      ]
     },
     "metadata": {
      "needs_background": "light"
     },
     "output_type": "display_data"
    },
    {
     "data": {
      "image/png": "[encoded data removed]",
      "text/plain": [
       "<Figure size 432x288 with 1 Axes>"
      ]
     },
     "metadata": {
      "needs_background": "light"
     },
     "output_type": "display_data"
    },
    {
     "data": {
      "image/png": "[encoded data removed]",
      "text/plain": [
       "<Figure size 432x288 with 1 Axes>"
      ]
     },
     "metadata": {
      "needs_background": "light"
     },
     "output_type": "display_data"
    },
    {
     "data": {
      "image/png": "[encoded data removed]",
      "text/plain": [
       "<Figure size 432x288 with 1 Axes>"
      ]
     },
     "metadata": {
      "needs_background": "light"
     },
     "output_type": "display_data"
    },
    {
     "data": {
      "image/png": "[encoded data removed]",
      "text/plain": [
       "<Figure size 432x288 with 1 Axes>"
      ]
     },
     "metadata": {
      "needs_background": "light"
     },
     "output_type": "display_data"
    },
    {
     "data": {
      "image/png": "[encoded data removed]",
      "text/plain": [
       "<Figure size 432x288 with 1 Axes>"
      ]
     },
     "metadata": {
      "needs_background": "light"
     },
     "output_type": "display_data"
    },
    {
     "data": {
      "image/png": "[encoded data removed]",
      "text/plain": [
       "<Figure size 432x288 with 1 Axes>"
      ]
     },
     "metadata": {
      "needs_background": "light"
     },
     "output_type": "display_data"
    },
    {
     "data": {
      "image/png": "[encoded data removed]",
      "text/plain": [
       "<Figure size 432x288 with 1 Axes>"
      ]
     },
     "metadata": {
      "needs_background": "light"
     },
     "output_type": "display_data"
    },
    {
     "data": {
      "image/png": "[encoded data removed]",
      "text/plain": [
       "<Figure size 432x288 with 1 Axes>"
      ]
     },
     "metadata": {
      "needs_background": "light"
     },
     "output_type": "display_data"
    },
    {
     "data": {
      "image/png": "[encoded data removed]",
      "text/plain": [
       "<Figure size 432x288 with 1 Axes>"
      ]
     },
     "metadata": {
      "needs_background": "light"
     },
     "output_type": "display_data"
    },
    {
     "data": {
      "image/png": "[encoded data removed]",
      "text/plain": [
       "<Figure size 432x288 with 1 Axes>"
      ]
     },
     "metadata": {
      "needs_background": "light"
     },
     "output_type": "display_data"
    },
    {
     "data": {
      "image/png": "[encoded data removed]",
      "text/plain": [
       "<Figure size 432x288 with 1 Axes>"
      ]
     },
     "metadata": {
      "needs_background": "light"
     },
     "output_type": "display_data"
    },
    {
     "data": {
      "image/png": "[encoded data removed]",
      "text/plain": [
       "<Figure size 432x288 with 1 Axes>"
      ]
     },
     "metadata": {
      "needs_background": "light"
     },
     "output_type": "display_data"
    },
    {
     "data": {
      "image/png": "[encoded data removed]",
      "text/plain": [
       "<Figure size 432x288 with 1 Axes>"
      ]
     },
     "metadata": {
      "needs_background": "light"
     },
     "output_type": "display_data"
    },
    {
     "data": {
      "image/png": "[encoded data removed]",
      "text/plain": [
       "<Figure size 432x288 with 1 Axes>"
      ]
     },
     "metadata": {
      "needs_background": "light"
     },
     "output_type": "display_data"
    },
    {
     "data": {
      "image/png": "[encoded data removed]",
      "text/plain": [
       "<Figure size 432x288 with 1 Axes>"
      ]
     },
     "metadata": {
      "needs_background": "light"
     },
     "output_type": "display_data"
    },
    {
     "data": {
      "image/png": "[encoded data removed]",
      "text/plain": [
       "<Figure size 432x288 with 1 Axes>"
      ]
     },
     "metadata": {
      "needs_background": "light"
     },
     "output_type": "display_data"
    },
    {
     "data": {
      "image/png": "[encoded data removed]",
      "text/plain": [
       "<Figure size 432x288 with 1 Axes>"
      ]
     },
     "metadata": {
      "needs_background": "light"
     },
     "output_type": "display_data"
    },
    {
     "data": {
      "image/png": "[encoded data removed]",
      "text/plain": [
       "<Figure size 432x288 with 1 Axes>"
      ]
     },
     "metadata": {
      "needs_background": "light"
     },
     "output_type": "display_data"
    },
    {
     "data": {
      "image/png": "[encoded data removed]",
      "text/plain": [
       "<Figure size 432x288 with 1 Axes>"
      ]
     },
     "metadata": {
      "needs_background": "light"
     },
     "output_type": "display_data"
    },
    {
     "data": {
      "image/png": "[encoded data removed]",
      "text/plain": [
       "<Figure size 432x288 with 1 Axes>"
      ]
     },
     "metadata": {
      "needs_background": "light"
     },
     "output_type": "display_data"
    },
    {
     "data": {
      "image/png": "[encoded data removed]",
      "text/plain": [
       "<Figure size 432x288 with 1 Axes>"
      ]
     },
     "metadata": {
      "needs_background": "light"
     },
     "output_type": "display_data"
    },
    {
     "data": {
      "image/png": "[encoded data removed]",
      "text/plain": [
       "<Figure size 432x288 with 1 Axes>"
      ]
     },
     "metadata": {
      "needs_background": "light"
     },
     "output_type": "display_data"
    },
    {
     "data": {
      "image/png": "[encoded data removed]",
      "text/plain": [
       "<Figure size 432x288 with 1 Axes>"
      ]
     },
     "metadata": {
      "needs_background": "light"
     },
     "output_type": "display_data"
    },
    {
     "data": {
      "image/png": "[encoded data removed]",
      "text/plain": [
       "<Figure size 432x288 with 1 Axes>"
      ]
     },
     "metadata": {
      "needs_background": "light"
     },
     "output_type": "display_data"
    },
    {
     "data": {
      "image/png": "[encoded data removed]",
      "text/plain": [
       "<Figure size 432x288 with 1 Axes>"
      ]
     },
     "metadata": {
      "needs_background": "light"
     },
     "output_type": "display_data"
    },
    {
     "data": {
      "image/png": "[encoded data removed]",
      "text/plain": [
       "<Figure size 432x288 with 1 Axes>"
      ]
     },
     "metadata": {
      "needs_background": "light"
     },
     "output_type": "display_data"
    },
    {
     "data": {
      "text/plain": [
       "30"
      ]
     },
     "execution_count": 122,
     "metadata": {},
     "output_type": "execute_result"
    }
   ],
   "source": [
    "from matplotlib.pyplot import show\n",
    "def try_put_ship(grid, ship):\n",
    "    # returns the direction and position\n",
    "    \n",
    "    for i in range(grid.lines):\n",
    "        for j in range(grid.cols):\n",
    "            for direction in Direction:\n",
    "                if grid.peut_placer(ship, (i,j), direction):\n",
    "                    return ((i,j), direction)\n",
    "                \n",
    "    return False\n",
    "\n",
    "# fonction qui permet de dénombrer le nombre de façon de placer une liste de bateaux sur une grille vide. \n",
    "def how_many_conf(ships_length, lines):\n",
    "    \"\"\"\n",
    "        Assumption: the grid is represented as a SQUARE matrix\n",
    "        \n",
    "        @params:\n",
    "            - ships_length -> a list of int in which each int (ship's length) > 0\n",
    "            \n",
    "    \"\"\"\n",
    "    count = 0\n",
    "\n",
    "    # constructing ships\n",
    "    ships = []\n",
    "    for ship_len in ships_length: \n",
    "        color = np.random.randint(1,200)\n",
    "        ship_name = str(ship_len + color) + 'D' + str(ships_length.count(ship_len))\n",
    "        ships.append(ship_name)\n",
    "        Bateau[ship_name] = [ship_len, color]\n",
    "        \n",
    "    # constructing configurations\n",
    "    \n",
    "    for i in range(lines):\n",
    "        for j in range(lines):\n",
    "            for direction in Direction:\n",
    "                grid = Grille(lines, lines)\n",
    "                \n",
    "                if grid.place(ships[0], (i,j), direction):\n",
    "                    all_true = []\n",
    "                    #print(grid.grille)\n",
    "                    for k in range(1, len(ships)):\n",
    "                        res = try_put_ship(grid, ships[k])\n",
    "                        \n",
    "                        if res is False:\n",
    "                            break\n",
    "                            \n",
    "                        grid.place(ships[k], res[0], res[1])\n",
    "                        #print(grid.grille)\n",
    "                        all_true.append(True)\n",
    "                            \n",
    "                    if all_true.count(True) == len(ships) - 1:\n",
    "                        count += 1\n",
    "                        grid.affiche()\n",
    "                        show()\n",
    "    \n",
    "    # deleting ships from dictionnary\n",
    "\n",
    "    for ship in ships:\n",
    "        try:\n",
    "            del Bateau[ship]\n",
    "        except KeyError:\n",
    "            pass\n",
    "    \n",
    "    return count\n",
    "        \n",
    "how_many_conf([3,3,3], 5)"
   ]
  }
 ],
 "metadata": {
  "kernelspec": {
   "display_name": "Python 3",
   "language": "python",
   "name": "python3"
  },
  "language_info": {
   "codemirror_mode": {
    "name": "ipython",
    "version": 3
   },
   "file_extension": ".py",
   "mimetype": "text/x-python",
   "name": "python",
   "nbconvert_exporter": "python",
   "pygments_lexer": "ipython3",
   "version": "3.7.3"
  }
 },
 "nbformat": 4,
 "nbformat_minor": 2
}
