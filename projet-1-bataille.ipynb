{
 "cells": [
  {
   "cell_type": "code",
   "execution_count": 166,
   "metadata": {},
   "outputs": [],
   "source": [
    "import enum\n",
    "import sys\n",
    "import itertools\n",
    "import bisect\n",
    "import time\n",
    "\n",
    "import numpy as np\n",
    "import matplotlib.pyplot as plt\n",
    "from matplotlib.pyplot import show"
   ]
  },
  {
   "cell_type": "code",
   "execution_count": 2,
   "metadata": {},
   "outputs": [],
   "source": [
    "Bateau = dict() # values are [nbr_case, valeur_pixel]\n",
    "Bateau['porte_avions'] = [5, 10]\n",
    "Bateau['croiseur'] = [4, 20]\n",
    "Bateau['contre_torpilleurs'] = [3, 30]\n",
    "Bateau['sous_marin'] = [3, 40]\n",
    "Bateau['torpilleur'] = [2, 50]\n",
    "\n",
    "\n",
    "class Direction(enum.Enum):\n",
    "    horizontal = 1\n",
    "    vertical = 2"
   ]
  },
  {
   "cell_type": "code",
   "execution_count": 12,
   "metadata": {},
   "outputs": [
    {
     "data": {
      "text/plain": [
       "True"
      ]
     },
     "execution_count": 12,
     "metadata": {},
     "output_type": "execute_result"
    }
   ],
   "source": [
    "isinstance(Direction.horizontal, Direction)"
   ]
  },
  {
   "cell_type": "code",
   "execution_count": 122,
   "metadata": {},
   "outputs": [],
   "source": [
    "class Localisation():\n",
    "    def __init__(self, pair_xy, direction, length):\n",
    "        assert(isinstance(pair_xy, tuple) or isinstance(pair_xy, list))\n",
    "        assert(len(pair_xy) == 2)\n",
    "        assert(int(length) > 0)\n",
    "        assert(isinstance(direction, Direction))\n",
    "        \n",
    "        self.pair_xy = pair_xy\n",
    "        self.direction = direction\n",
    "        self.length = length\n",
    "        \n",
    "    def equals(self, Loc2):\n",
    "        assert(isinstance(Loc2, Localisation))\n",
    "        return (self.pair_xy == Loc2.pair_xy and self.direction == Loc2.direction and self.length == Loc2.length)\n",
    "    \n",
    "    def __lt__(self, Loc2):\n",
    "        \"\"\"\n",
    "            will be used by bisect.insort, to make the list of localisations sorted\n",
    "        \"\"\"\n",
    "        return self.pair_xy < Loc2.pair_xy\n",
    "    \n",
    "    def __str__(self):\n",
    "        s = \"Localisation object: \\n\"\n",
    "        s += \"[+] coord: \" + str(self.pair_xy) + '\\n'\n",
    "        s += \"[+] direction: \" + str(self.direction) +  \" -> value: \" + str(self.direction.value) + '\\n'\n",
    "        s += \"[+] length of the ship: \" + str(self.length) + '\\n'\n",
    "        \n",
    "        return s"
   ]
  },
  {
   "cell_type": "code",
   "execution_count": 135,
   "metadata": {},
   "outputs": [],
   "source": [
    "class Grille():\n",
    " \n",
    "        \n",
    "    def peut_placer(self, bateau, position, direction): # position is a tuple: (line, col)\n",
    "        \"\"\"\n",
    "            @params: bateau -> str (key in Bateau dictionnary)\n",
    "                     position -> tuple or list\n",
    "                     direction -> Direction enum instance.\n",
    "        \"\"\"\n",
    "        assert(bateau in Bateau)\n",
    "        assert(len(position) == 2)\n",
    "        assert(isinstance(direction, Direction))\n",
    "        \n",
    "        try:\n",
    "            line = position[0]\n",
    "            column = position[1]\n",
    "            nbr_case = Bateau[bateau][0]\n",
    "\n",
    "            if direction.value == Direction.horizontal.value:\n",
    "                placement = self.grille[line, column:][:nbr_case]\n",
    "                if sum(placement) == 0 and len(placement) == nbr_case:\n",
    "                    return True\n",
    "                return False\n",
    "\n",
    "            elif direction.value == Direction.vertical.value:\n",
    "                placement = self.grille[:, column][line:nbr_case + line]\n",
    "                #print(\"placement %s => sum = %d\", %(placement, sum(placement)))\n",
    "                if sum(placement) == 0 and len(placement) == nbr_case:\n",
    "                    return True\n",
    "                return False\n",
    "\n",
    "            else:\n",
    "                raise ValueError(\"Direction doit etre soit vertical soit horizontal\")\n",
    "        except IndexError:\n",
    "            return False\n",
    "    \n",
    "    def place(self, bateau, position, direction):\n",
    "        # assertions will be done by peut_placer\n",
    "        \n",
    "        if self.peut_placer(bateau, position, direction):\n",
    "            line = position[0]\n",
    "            column = position[1]\n",
    "            \n",
    "            if direction.value == Direction.horizontal.value:\n",
    "                self.grille[line, column:][:Bateau[bateau][0]] = Bateau[bateau][1]\n",
    "            elif direction.value == Direction.vertical.value:\n",
    "                self.grille[:, column][line:Bateau[bateau][0] + line] = Bateau[bateau][1]\n",
    "            \n",
    "            # using insort to keep the list sorted each insert (needed to compare 2 grids)\n",
    "            bisect.insort(self.localisations, Localisation(list(position), direction, Bateau[bateau][0]))\n",
    "            \n",
    "            return True\n",
    "            \n",
    "        else:\n",
    "            return False\n",
    "            \n",
    "    def place_alea(self, bateau):\n",
    "        cols_list = list(range(self.cols))\n",
    "        lines_list = list(range(self.lines))\n",
    "\n",
    "        all_possible_positions = list(itertools.product(cols_list, lines_list)) # construct all possible pairs (coords)\n",
    "        directions = [direction for direction in Direction]\n",
    "        \n",
    "        random_index = np.random.randint(len(all_possible_positions))\n",
    "        random_direction = directions[np.random.randint(len(directions))] # returns a direction (type Direction enum)\n",
    "        \n",
    "        placed = self.place(bateau, all_possible_positions[random_index], random_direction)\n",
    "        \n",
    "        while not placed:\n",
    "            del all_possible_positions[random_index] # sans remise\n",
    "            \n",
    "            random_index = np.random.randint(len(all_possible_positions))\n",
    "            random_direction = directions[np.random.randint(len(directions))]\n",
    "            placed = self.place(bateau, all_possible_positions[random_index], random_direction)\n",
    "            \n",
    "        bisect.insort(self.localisations, Localisation(list(all_possible_positions[random_index]), \\\n",
    "                                                       random_direction, Bateau[bateau][0]))\n",
    "            \n",
    "    def affiche(self):\n",
    "        plt.imshow(self.grille)\n",
    "        plt.set_cmap('hot')\n",
    "        \n",
    "    def eq(self, grilleB): # works only by constructions\n",
    "        if (len(self.localisations) != len(grilleB.localisations)):\n",
    "            return False\n",
    "        \n",
    "        for i in range(len(self.localisations)):\n",
    "            if not self.localisations[i].equals(grilleB.localisations[i]):\n",
    "                return False\n",
    "        \n",
    "        return True\n",
    "    \n",
    "    def genere_grille(self, h_many = 5):\n",
    "        i = 0\n",
    "        \n",
    "        for bateau in Bateau:\n",
    "            if i == h_many:\n",
    "                break\n",
    "                \n",
    "            self.place_alea(bateau)\n",
    "            i += 1\n",
    "            \n",
    "    def remove_ship(self, ship, position, direction):\n",
    "        line = position[0]\n",
    "        column = position[1]\n",
    "        nbr_case = Bateau[ship][0]\n",
    "        \n",
    "        if direction.value == Direction.horizontal.value:\n",
    "            self.grille[line, column:][:nbr_case] = 0\n",
    "            \n",
    "        elif direction.value == Direction.vertical.value:\n",
    "            self.grille[:, column][line:nbr_case + line] = 0"
   ]
  },
  {
   "cell_type": "code",
   "execution_count": 71,
   "metadata": {},
   "outputs": [
    {
     "data": {
      "image/png": "[encoded data removed]",
      "text/plain": [
       "<Figure size 432x288 with 1 Axes>"
      ]
     },
     "metadata": {
      "needs_background": "light"
     },
     "output_type": "display_data"
    }
   ],
   "source": [
    "grille = Grille()\n",
    "grille.genere_grille()\n",
    "grille.affiche()"
   ]
  },
  {
   "cell_type": "code",
   "execution_count": 106,
   "metadata": {},
   "outputs": [
    {
     "data": {
      "text/plain": [
       "True"
      ]
     },
     "execution_count": 106,
     "metadata": {},
     "output_type": "execute_result"
    }
   ],
   "source": [
    "grid.place('torpilleur', (4, 7), Direction.horizontal)"
   ]
  },
  {
   "cell_type": "code",
   "execution_count": 107,
   "metadata": {},
   "outputs": [
    {
     "data": {
      "text/plain": [
       "False"
      ]
     },
     "execution_count": 107,
     "metadata": {},
     "output_type": "execute_result"
    }
   ],
   "source": [
    "grid.eq(grille)"
   ]
  },
  {
   "cell_type": "markdown",
   "metadata": {},
   "source": [
    "## 2 Combinatoire du jeu"
   ]
  },
  {
   "cell_type": "markdown",
   "metadata": {},
   "source": [
    "Donner une borne supérieure du nombre de configurations possibles pour la liste\n",
    "complète de bateaux sur une grille de taille 10 (calcul à la main)."
   ]
  },
  {
   "cell_type": "code",
   "execution_count": 108,
   "metadata": {},
   "outputs": [],
   "source": [
    "# fonction qui permet de dénombrer le nombre de façons de placer un bateau donné sur une grille vide\n",
    "def how_many_ways_to_put(grid, ship_len, lines):\n",
    "    \"\"\"\n",
    "        Assumption: the grid is represented as a SQUARE matrix\n",
    "        \n",
    "        @params: grid \n",
    "                 ship_len -> longueur du bateau \n",
    "                 lines -> number of lines in the grid\n",
    "    \"\"\"\n",
    "    assert(isinstance(grid, Grille))\n",
    "    assert(isinstance(ship_len, int) and ship_len > 0)\n",
    "    \n",
    "    #grid = Grille(lines, lines)\n",
    "    count = 0\n",
    "    Bateau['temp'] = [ship_len, 100]\n",
    "    \n",
    "    for i in range(lines):\n",
    "        for j in range(lines):\n",
    "            if grid.peut_placer('temp', (i,j), Direction.horizontal):\n",
    "                count += 1\n",
    "            \n",
    "            if grid.peut_placer('temp', (i,j), Direction.vertical):\n",
    "                count += 1\n",
    "    \n",
    "    del Bateau['temp']\n",
    "    \n",
    "    return count"
   ]
  },
  {
   "cell_type": "code",
   "execution_count": 109,
   "metadata": {},
   "outputs": [],
   "source": [
    "def construct_ships(ships_length, colors=None):\n",
    "    ships = []\n",
    "    i = 0\n",
    "    \n",
    "    for ship_len in ships_length: \n",
    "        color = np.random.randint(10, 150)\n",
    "        ship_name = str(ship_len + color) + 'D' + str(ships_length.count(ship_len))\n",
    "        ships.append(ship_name)\n",
    "        \n",
    "        if colors is not None:\n",
    "            Bateau[ship_name] = [ship_len, colors[i]]\n",
    "            i += 1\n",
    "        else:\n",
    "            Bateau[ship_name] = [ship_len, color] \n",
    "    \n",
    "    return ships"
   ]
  },
  {
   "cell_type": "code",
   "execution_count": 110,
   "metadata": {},
   "outputs": [],
   "source": [
    "def calculate(grid, ships, lines, cols, count, visualize):    \n",
    "    \n",
    "    if len(ships) == 1:\n",
    "        for i in range(lines):\n",
    "            for j in range(cols):\n",
    "                for direction in Direction:\n",
    "                    if grid.peut_placer(ships[0], (i,j), direction):\n",
    "                        \n",
    "                        if visualize:\n",
    "                            grid.place(ships[0], (i,j), direction)\n",
    "                            grid.affiche()\n",
    "                            show()\n",
    "                            grid.remove_ship(ships[0], (i,j), direction)\n",
    "                            \n",
    "                        count += 1\n",
    "                            \n",
    "    else:\n",
    "        for i in range(lines):\n",
    "            for j in range(cols):\n",
    "                for direction in Direction:\n",
    "                    if grid.peut_placer(ships[0], (i,j), direction):\n",
    "                        grid.place(ships[0], (i,j), direction)\n",
    "                        count = calculate(grid, ships[1:], lines, cols, count, visualize)\n",
    "                        \n",
    "                        if count % 3 == 0:\n",
    "                            sys.stdout.write(\"\\r%d\" % count)\n",
    "                            sys.stdout.flush()\n",
    "                        grid.remove_ship(ships[0], (i,j), direction)\n",
    "                            \n",
    "    return count"
   ]
  },
  {
   "cell_type": "code",
   "execution_count": 111,
   "metadata": {},
   "outputs": [],
   "source": [
    "# fonction qui permet de dénombrer le nombre de façon de placer une liste de bateaux sur une grille vide. \n",
    "def how_many_conf(ships_length, lines, cols, visualize = False):\n",
    "    grid = Grille(lines, cols)\n",
    "    ships = construct_ships(ships_length)\n",
    "    \n",
    "    count = calculate(grid, ships, lines, cols, 0, visualize)\n",
    "    \n",
    "    for ship in ships:\n",
    "        try:\n",
    "            del Bateau[ship]\n",
    "        except KeyError:\n",
    "            pass\n",
    "        \n",
    "    return count"
   ]
  },
  {
   "cell_type": "code",
   "execution_count": 112,
   "metadata": {},
   "outputs": [
    {
     "name": "stdout",
     "output_type": "stream",
     "text": [
      "3848040"
     ]
    },
    {
     "data": {
      "text/plain": [
       "3848040"
      ]
     },
     "execution_count": 112,
     "metadata": {},
     "output_type": "execute_result"
    }
   ],
   "source": [
    "how_many_conf([2, 3, 3], 10, 10)"
   ]
  },
  {
   "cell_type": "code",
   "execution_count": 219,
   "metadata": {},
   "outputs": [],
   "source": [
    "def how_much_to_get_grid(grid):\n",
    "    # fonction qui prend enparamètre une grille, génère des grilles aléatoirement jusqu’à ce que la grille \n",
    "    # générée soit égale à la grille passée en paramètre et qui renvoie le nombre de grilles générées.\n",
    "    count = 1\n",
    "    \n",
    "    # constructing new ships with the same lengths and colors\n",
    "    uniq, counts = (np.unique(grid.grille, return_counts=True))\n",
    "    \n",
    "    ships = dict(zip(uniq[1:], counts[1:]))\n",
    "    ships = construct_ships(list(ships.values()), list(ships.keys()))\n",
    "    \n",
    "    # constructing new grids\n",
    "    tmp = Grille(grid.lines, grid.cols)\n",
    "    is_the_same = False\n",
    "    \n",
    "    for ship in ships:\n",
    "        tmp.place_alea(ship)\n",
    "        \n",
    "    if tmp.eq(grid):\n",
    "        is_the_same = True\n",
    "        \n",
    "    while not is_the_same:\n",
    "        count += 1\n",
    "        \n",
    "        tmp = Grille(grid.lines, grid.cols)\n",
    "\n",
    "        for ship in ships:\n",
    "            tmp.place_alea(ship)\n",
    "\n",
    "        if tmp.eq(grid):\n",
    "            is_the_same = True\n",
    "            \n",
    "        if count % 3 == 0:\n",
    "            sys.stdout.write(\"\\r%d\" % count)\n",
    "            sys.stdout.flush()\n",
    "    \n",
    "    # deleting temp ships\n",
    "    \n",
    "    for ship in ships:\n",
    "        try:\n",
    "            del Bateau[ship]\n",
    "        except KeyError:\n",
    "            pass\n",
    "    \n",
    "    return count"
   ]
  },
  {
   "cell_type": "code",
   "execution_count": 242,
   "metadata": {},
   "outputs": [
    {
     "data": {
      "image/png": "[encoded data removed]",
      "text/plain": [
       "<Figure size 432x288 with 1 Axes>"
      ]
     },
     "metadata": {
      "needs_background": "light"
     },
     "output_type": "display_data"
    }
   ],
   "source": [
    "grid = Grille(10,10)\n",
    "grid.genere_grille()\n",
    "grid.affiche()"
   ]
  },
  {
   "cell_type": "code",
   "execution_count": 243,
   "metadata": {
    "scrolled": false
   },
   "outputs": [
    {
     "name": "stdout",
     "output_type": "stream",
     "text": [
      "45970884"
     ]
    },
    {
     "ename": "KeyboardInterrupt",
     "evalue": "",
     "output_type": "error",
     "traceback": [
      "\u001b[0;31m---------------------------------------------------------------------------\u001b[0m",
      "\u001b[0;31mKeyboardInterrupt\u001b[0m                         Traceback (most recent call last)",
      "\u001b[0;32m<ipython-input-243-b5474dd41567>\u001b[0m in \u001b[0;36m<module>\u001b[0;34m()\u001b[0m\n\u001b[1;32m      2\u001b[0m \u001b[0;32mfor\u001b[0m \u001b[0mi\u001b[0m \u001b[0;32min\u001b[0m \u001b[0mrange\u001b[0m\u001b[0;34m(\u001b[0m\u001b[0;36m10\u001b[0m\u001b[0;34m)\u001b[0m\u001b[0;34m:\u001b[0m\u001b[0;34m\u001b[0m\u001b[0;34m\u001b[0m\u001b[0m\n\u001b[1;32m      3\u001b[0m     \u001b[0mstart\u001b[0m \u001b[0;34m=\u001b[0m \u001b[0mtime\u001b[0m\u001b[0;34m.\u001b[0m\u001b[0mtime\u001b[0m\u001b[0;34m(\u001b[0m\u001b[0;34m)\u001b[0m\u001b[0;34m\u001b[0m\u001b[0;34m\u001b[0m\u001b[0m\n\u001b[0;32m----> 4\u001b[0;31m     \u001b[0mcounts\u001b[0m\u001b[0;34m.\u001b[0m\u001b[0mappend\u001b[0m\u001b[0;34m(\u001b[0m\u001b[0mhow_much_to_get_grid\u001b[0m\u001b[0;34m(\u001b[0m\u001b[0mgrid\u001b[0m\u001b[0;34m)\u001b[0m\u001b[0;34m)\u001b[0m\u001b[0;34m\u001b[0m\u001b[0;34m\u001b[0m\u001b[0m\n\u001b[0m\u001b[1;32m      5\u001b[0m     \u001b[0mprint\u001b[0m\u001b[0;34m(\u001b[0m\u001b[0;34m)\u001b[0m\u001b[0;34m\u001b[0m\u001b[0;34m\u001b[0m\u001b[0m\n\u001b[1;32m      6\u001b[0m     \u001b[0mend\u001b[0m \u001b[0;34m=\u001b[0m \u001b[0mtime\u001b[0m\u001b[0;34m.\u001b[0m\u001b[0mtime\u001b[0m\u001b[0;34m(\u001b[0m\u001b[0;34m)\u001b[0m \u001b[0;34m-\u001b[0m \u001b[0mstart\u001b[0m\u001b[0;34m\u001b[0m\u001b[0;34m\u001b[0m\u001b[0m\n",
      "\u001b[0;32m<ipython-input-219-323a0ac9aa59>\u001b[0m in \u001b[0;36mhow_much_to_get_grid\u001b[0;34m(grid)\u001b[0m\n\u001b[1;32m     33\u001b[0m         \u001b[0;32mif\u001b[0m \u001b[0mcount\u001b[0m \u001b[0;34m%\u001b[0m \u001b[0;36m3\u001b[0m \u001b[0;34m==\u001b[0m \u001b[0;36m0\u001b[0m\u001b[0;34m:\u001b[0m\u001b[0;34m\u001b[0m\u001b[0;34m\u001b[0m\u001b[0m\n\u001b[1;32m     34\u001b[0m             \u001b[0msys\u001b[0m\u001b[0;34m.\u001b[0m\u001b[0mstdout\u001b[0m\u001b[0;34m.\u001b[0m\u001b[0mwrite\u001b[0m\u001b[0;34m(\u001b[0m\u001b[0;34m\"\\r%d\"\u001b[0m \u001b[0;34m%\u001b[0m \u001b[0mcount\u001b[0m\u001b[0;34m)\u001b[0m\u001b[0;34m\u001b[0m\u001b[0;34m\u001b[0m\u001b[0m\n\u001b[0;32m---> 35\u001b[0;31m             \u001b[0msys\u001b[0m\u001b[0;34m.\u001b[0m\u001b[0mstdout\u001b[0m\u001b[0;34m.\u001b[0m\u001b[0mflush\u001b[0m\u001b[0;34m(\u001b[0m\u001b[0;34m)\u001b[0m\u001b[0;34m\u001b[0m\u001b[0;34m\u001b[0m\u001b[0m\n\u001b[0m\u001b[1;32m     36\u001b[0m \u001b[0;34m\u001b[0m\u001b[0m\n\u001b[1;32m     37\u001b[0m     \u001b[0;31m# deleting temp ships\u001b[0m\u001b[0;34m\u001b[0m\u001b[0;34m\u001b[0m\u001b[0;34m\u001b[0m\u001b[0m\n",
      "\u001b[0;32m/usr/lib/python3/dist-packages/ipykernel/iostream.py\u001b[0m in \u001b[0;36mflush\u001b[0;34m(self)\u001b[0m\n\u001b[1;32m    347\u001b[0m                 \u001b[0mself\u001b[0m\u001b[0;34m.\u001b[0m\u001b[0mpub_thread\u001b[0m\u001b[0;34m.\u001b[0m\u001b[0mschedule\u001b[0m\u001b[0;34m(\u001b[0m\u001b[0mevt\u001b[0m\u001b[0;34m.\u001b[0m\u001b[0mset\u001b[0m\u001b[0;34m)\u001b[0m\u001b[0;34m\u001b[0m\u001b[0;34m\u001b[0m\u001b[0m\n\u001b[1;32m    348\u001b[0m                 \u001b[0;31m# and give a timeout to avoid\u001b[0m\u001b[0;34m\u001b[0m\u001b[0;34m\u001b[0m\u001b[0;34m\u001b[0m\u001b[0m\n\u001b[0;32m--> 349\u001b[0;31m                 \u001b[0;32mif\u001b[0m \u001b[0;32mnot\u001b[0m \u001b[0mevt\u001b[0m\u001b[0;34m.\u001b[0m\u001b[0mwait\u001b[0m\u001b[0;34m(\u001b[0m\u001b[0mself\u001b[0m\u001b[0;34m.\u001b[0m\u001b[0mflush_timeout\u001b[0m\u001b[0;34m)\u001b[0m\u001b[0;34m:\u001b[0m\u001b[0;34m\u001b[0m\u001b[0;34m\u001b[0m\u001b[0m\n\u001b[0m\u001b[1;32m    350\u001b[0m                     \u001b[0;31m# write directly to __stderr__ instead of warning because\u001b[0m\u001b[0;34m\u001b[0m\u001b[0;34m\u001b[0m\u001b[0;34m\u001b[0m\u001b[0m\n\u001b[1;32m    351\u001b[0m                     \u001b[0;31m# if this is happening sys.stderr may be the problem.\u001b[0m\u001b[0;34m\u001b[0m\u001b[0;34m\u001b[0m\u001b[0;34m\u001b[0m\u001b[0m\n",
      "\u001b[0;32m/usr/lib/python3.7/threading.py\u001b[0m in \u001b[0;36mwait\u001b[0;34m(self, timeout)\u001b[0m\n\u001b[1;32m    550\u001b[0m             \u001b[0msignaled\u001b[0m \u001b[0;34m=\u001b[0m \u001b[0mself\u001b[0m\u001b[0;34m.\u001b[0m\u001b[0m_flag\u001b[0m\u001b[0;34m\u001b[0m\u001b[0;34m\u001b[0m\u001b[0m\n\u001b[1;32m    551\u001b[0m             \u001b[0;32mif\u001b[0m \u001b[0;32mnot\u001b[0m \u001b[0msignaled\u001b[0m\u001b[0;34m:\u001b[0m\u001b[0;34m\u001b[0m\u001b[0;34m\u001b[0m\u001b[0m\n\u001b[0;32m--> 552\u001b[0;31m                 \u001b[0msignaled\u001b[0m \u001b[0;34m=\u001b[0m \u001b[0mself\u001b[0m\u001b[0;34m.\u001b[0m\u001b[0m_cond\u001b[0m\u001b[0;34m.\u001b[0m\u001b[0mwait\u001b[0m\u001b[0;34m(\u001b[0m\u001b[0mtimeout\u001b[0m\u001b[0;34m)\u001b[0m\u001b[0;34m\u001b[0m\u001b[0;34m\u001b[0m\u001b[0m\n\u001b[0m\u001b[1;32m    553\u001b[0m             \u001b[0;32mreturn\u001b[0m \u001b[0msignaled\u001b[0m\u001b[0;34m\u001b[0m\u001b[0;34m\u001b[0m\u001b[0m\n\u001b[1;32m    554\u001b[0m \u001b[0;34m\u001b[0m\u001b[0m\n",
      "\u001b[0;32m/usr/lib/python3.7/threading.py\u001b[0m in \u001b[0;36mwait\u001b[0;34m(self, timeout)\u001b[0m\n\u001b[1;32m    298\u001b[0m             \u001b[0;32melse\u001b[0m\u001b[0;34m:\u001b[0m\u001b[0;34m\u001b[0m\u001b[0;34m\u001b[0m\u001b[0m\n\u001b[1;32m    299\u001b[0m                 \u001b[0;32mif\u001b[0m \u001b[0mtimeout\u001b[0m \u001b[0;34m>\u001b[0m \u001b[0;36m0\u001b[0m\u001b[0;34m:\u001b[0m\u001b[0;34m\u001b[0m\u001b[0;34m\u001b[0m\u001b[0m\n\u001b[0;32m--> 300\u001b[0;31m                     \u001b[0mgotit\u001b[0m \u001b[0;34m=\u001b[0m \u001b[0mwaiter\u001b[0m\u001b[0;34m.\u001b[0m\u001b[0macquire\u001b[0m\u001b[0;34m(\u001b[0m\u001b[0;32mTrue\u001b[0m\u001b[0;34m,\u001b[0m \u001b[0mtimeout\u001b[0m\u001b[0;34m)\u001b[0m\u001b[0;34m\u001b[0m\u001b[0;34m\u001b[0m\u001b[0m\n\u001b[0m\u001b[1;32m    301\u001b[0m                 \u001b[0;32melse\u001b[0m\u001b[0;34m:\u001b[0m\u001b[0;34m\u001b[0m\u001b[0;34m\u001b[0m\u001b[0m\n\u001b[1;32m    302\u001b[0m                     \u001b[0mgotit\u001b[0m \u001b[0;34m=\u001b[0m \u001b[0mwaiter\u001b[0m\u001b[0;34m.\u001b[0m\u001b[0macquire\u001b[0m\u001b[0;34m(\u001b[0m\u001b[0;32mFalse\u001b[0m\u001b[0;34m)\u001b[0m\u001b[0;34m\u001b[0m\u001b[0;34m\u001b[0m\u001b[0m\n",
      "\u001b[0;31mKeyboardInterrupt\u001b[0m: "
     ]
    }
   ],
   "source": [
    "counts = []\n",
    "for i in range(10):\n",
    "    start = time.time()\n",
    "    counts.append(how_much_to_get_grid(grid))\n",
    "    print()\n",
    "    end = time.time() - start\n",
    "    print(\"time \", end)"
   ]
  },
  {
   "cell_type": "code",
   "execution_count": 240,
   "metadata": {},
   "outputs": [
    {
     "data": {
      "text/plain": [
       "[27, 7, 158, 16, 93, 11, 103, 86, 15, 32]"
      ]
     },
     "execution_count": 240,
     "metadata": {},
     "output_type": "execute_result"
    }
   ],
   "source": [
    "counts"
   ]
  }
 ],
 "metadata": {
  "kernelspec": {
   "display_name": "Python 3",
   "language": "python",
   "name": "python3"
  },
  "language_info": {
   "codemirror_mode": {
    "name": "ipython",
    "version": 3
   },
   "file_extension": ".py",
   "mimetype": "text/x-python",
   "name": "python",
   "nbconvert_exporter": "python",
   "pygments_lexer": "ipython3",
   "version": "3.7.4+"
  }
 },
 "nbformat": 4,
 "nbformat_minor": 2
}
